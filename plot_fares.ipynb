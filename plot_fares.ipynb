{
 "cells": [
  {
   "cell_type": "code",
   "execution_count": 1,
   "id": "e195f53d-70f4-4c6f-b31e-b4014a4589b2",
   "metadata": {},
   "outputs": [],
   "source": [
    "#import numpy as np\n",
    "import matplotlib.pyplot as plt\n",
    "import pandas as pd\n",
    "import datetime\n",
    "import ftplib\n",
    "from matplotlib.dates import DateFormatter\n",
    "import ipywidgets as widgets\n",
    "%matplotlib widget\n"
   ]
  },
  {
   "cell_type": "code",
   "execution_count": 2,
   "id": "0c9b82a0-4063-4d2e-acc1-ae194b0bab8b",
   "metadata": {},
   "outputs": [],
   "source": [
    "#ftp server data\n",
    "hostname = \"ftpupload.net\"\n",
    "username = \"epiz_32799455\"\n",
    "pwd = \"2RerU5lOOo5s9\"\n",
    "folder = 'shared_files'\n",
    "filename = 'flight_fares.csv'\n",
    "\n",
    "\n",
    "\n",
    "#download the file\n",
    "downloaded_filename = 'downl_'+filename\n",
    "with ftplib.FTP(hostname, username, pwd) as ftp:\n",
    "    try:\n",
    "        ftp.cwd(folder)\n",
    "        ftp.encoding = \"utf-8\"\n",
    "        with open(downloaded_filename, 'wb+') as f:\n",
    "            ftp.retrbinary(\"RETR \" + filename ,f.write)\n",
    "            f.seek(0)\n",
    "            new_string = f.read().decode(\"utf-8\") \n",
    "            \n",
    "    except:\n",
    "        print (\"Error\")\n",
    "\n",
    "#print(new_string)"
   ]
  },
  {
   "cell_type": "code",
   "execution_count": 3,
   "id": "a05a6f63-5f72-41c0-9a57-f93d7c87cdf7",
   "metadata": {},
   "outputs": [],
   "source": [
    "df_all = pd.read_csv(downloaded_filename, sep = '\\t',parse_dates=['Query date'])\n",
    "df_list_label = [x for _, x in df_all.groupby(df_all['Label'])]\n",
    "label_list = [df.iloc[0]['Label'] for df in df_list_label]\n",
    "df_list_ID = [[x for _, x in df.groupby(df['ID'])] for df in df_list_label] \n",
    "\n",
    "\n",
    "    "
   ]
  },
  {
   "cell_type": "code",
   "execution_count": 13,
   "id": "79eb732b-f2ba-4420-9be9-e63899940f81",
   "metadata": {},
   "outputs": [
    {
     "data": {
      "application/vnd.jupyter.widget-view+json": {
       "model_id": "0ca5368dc0dc4ffd93cc19f8496c36d6",
       "version_major": 2,
       "version_minor": 0
      },
      "text/plain": [
       "GridBox(children=(Checkbox(value=False, description='Navidad', indent=False), Checkbox(value=True, description…"
      ]
     },
     "metadata": {},
     "output_type": "display_data"
    },
    {
     "data": {
      "application/vnd.jupyter.widget-view+json": {
       "model_id": "b4764898479d47c8b121ab95bc7e9c72",
       "version_major": 2,
       "version_minor": 0
      },
      "text/plain": [
       "Canvas(toolbar=Toolbar(toolitems=[('Home', 'Reset original view', 'home', 'home'), ('Back', 'Back to previous …"
      ]
     },
     "metadata": {},
     "output_type": "display_data"
    }
   ],
   "source": [
    "\n",
    "\n",
    "check_list = [widgets.Checkbox(value=False, description=lab, indent=False) for lab in label_list]\n",
    "check_list[-1].value = True\n",
    "\n",
    "display(widgets.GridBox(check_list, layout=widgets.Layout(grid_template_columns=\"repeat(3, 200px)\")))\n",
    "\n",
    "fig,ax = plt.subplots(figsize = [8,4])\n",
    "\n",
    "def plot_sel(change):\n",
    "    ax.clear()\n",
    "    for ii, df_list in enumerate(df_list_ID):\n",
    "        if check_list[ii].value:\n",
    "            for df in df_list:\n",
    "                tmp=df.iloc[0]\n",
    "                flight_descript = f\"{tmp['Label']} {tmp['Origin']}-{tmp['Destination']} {tmp['Date']}\"\n",
    "                ax.plot(df['Query date'],df['Price'],'.-',label=flight_descript)\n",
    "    ax.legend(loc='center left', bbox_to_anchor=(1, 0.5))\n",
    "    ax.grid('True')\n",
    "    ax.set_xlabel('Query date')\n",
    "    ax.set_ylabel('Price (€)')\n",
    "    ax.xaxis.set_major_formatter(DateFormatter('%d/%m'))\n",
    "    fig.tight_layout()\n",
    "\n",
    "\n",
    "\n",
    "plot_sel(None)\n",
    "[cl.observe(plot_sel) for cl in check_list]\n",
    "\n",
    "None\n",
    "\n",
    "# link_to_view_edit = 'https://docs.google.com/spreadsheets/d/1U3UlqFHcbvpml8QwxAMaEMRqDGM2bqYO?rtpof=true&authuser=claudiooton%40gmail.com&usp=drive_fs'\n",
    "# #link = widgets.HTML('Link to change flight monitor table:')\n",
    "# link = widgets.HTML(value=\"<a href=\"\"https://docs.google.com/spreadsheets/d/1U3UlqFHcbvpml8QwxAMaEMRqDGM2bqYO?rtpof=true&authuser=claudiooton%40gmail.com&usp=drive_fs\"\" target=\"\"_blank\"\">Click here to edit flight monitor table</a>\")\n",
    "\n",
    "# #display(text)\n",
    "# display(link)\n"
   ]
  },
  {
   "cell_type": "markdown",
   "id": "0ae46a9a-c6d4-4910-8f60-20e1be7cb7be",
   "metadata": {},
   "source": [
    "<a href=\"https://docs.google.com/spreadsheets/d/1U3UlqFHcbvpml8QwxAMaEMRqDGM2bqYO?rtpof=true&authuser=claudiooton%40gmail.com&usp=drive_fs\" target=\"_blank\">Click here to edit flight monitor table</a>"
   ]
  }
 ],
 "metadata": {
  "kernelspec": {
   "display_name": "Python 3",
   "language": "python",
   "name": "python3"
  },
  "language_info": {
   "codemirror_mode": {
    "name": "ipython",
    "version": 3
   },
   "file_extension": ".py",
   "mimetype": "text/x-python",
   "name": "python",
   "nbconvert_exporter": "python",
   "pygments_lexer": "ipython3",
   "version": "3.8.8"
  }
 },
 "nbformat": 4,
 "nbformat_minor": 5
}
