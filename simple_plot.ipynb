{
 "cells": [
  {
   "cell_type": "code",
   "execution_count": 19,
   "id": "206f5069-9c65-4fca-8634-29b181049475",
   "metadata": {},
   "outputs": [
    {
     "data": {
      "application/vnd.jupyter.widget-view+json": {
       "model_id": "c9a931f2466d492487bec33a36f30d63",
       "version_major": 2,
       "version_minor": 0
      },
      "text/plain": [
       "VBox(children=(FloatSlider(value=3.0, description='Freq', max=10.0, min=1.0), Output()))"
      ]
     },
     "metadata": {},
     "output_type": "display_data"
    },
    {
     "data": {
      "application/vnd.jupyter.widget-view+json": {
       "model_id": "9de5111a84384365976a293cbbc56aa4",
       "version_major": 2,
       "version_minor": 0
      },
      "text/plain": [
       "Canvas(toolbar=Toolbar(toolitems=[('Home', 'Reset original view', 'home', 'home'), ('Back', 'Back to previous …"
      ]
     },
     "metadata": {},
     "output_type": "display_data"
    }
   ],
   "source": [
    "import matplotlib.pyplot as plt\n",
    "import numpy as np\n",
    "import ipywidgets as widgets\n",
    "%matplotlib widget\n",
    "\n",
    "#plt.ioff()\n",
    "\n",
    "slider = widgets.FloatSlider(value = 3, min = 1, max = 10, description = 'Freq')\n",
    "plot_out = widgets.Output()\n",
    "outp = widgets.VBox([slider,plot_out])\n",
    "display(outp)\n",
    "\n",
    "x=np.linspace(0,20,1000)\n",
    "\n",
    "fig,ax = plt.subplots()\n",
    "fig.tight_layout()\n",
    "\n",
    "def replot(change):\n",
    "    plot_out.clear_output(wait=True)\n",
    "    with plot_out:\n",
    "        ax.clear()\n",
    "        ax.plot(x,np.sin(slider.value*x))\n",
    "        fig.canvas.draw()\n",
    "    \n",
    "\n",
    "\n",
    "replot(None)\n",
    "\n",
    "slider.observe(replot)\n",
    "\n",
    "\n",
    "\n",
    "\n"
   ]
  },
  {
   "cell_type": "code",
   "execution_count": null,
   "id": "b23d8a1b-753e-4b3a-9d45-c9f8d332d352",
   "metadata": {},
   "outputs": [],
   "source": []
  }
 ],
 "metadata": {
  "kernelspec": {
   "display_name": "Python 3",
   "language": "python",
   "name": "python3"
  },
  "language_info": {
   "codemirror_mode": {
    "name": "ipython",
    "version": 3
   },
   "file_extension": ".py",
   "mimetype": "text/x-python",
   "name": "python",
   "nbconvert_exporter": "python",
   "pygments_lexer": "ipython3",
   "version": "3.8.8"
  }
 },
 "nbformat": 4,
 "nbformat_minor": 5
}
