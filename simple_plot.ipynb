{
 "cells": [
  {
   "cell_type": "code",
   "execution_count": 20,
   "id": "206f5069-9c65-4fca-8634-29b181049475",
   "metadata": {},
   "outputs": [
    {
     "data": {
      "application/vnd.jupyter.widget-view+json": {
       "model_id": "c58671922aff40499852432fa4c83373",
       "version_major": 2,
       "version_minor": 0
      },
      "text/plain": [
       "FloatSlider(value=3.0, description='Freq', max=10.0, min=1.0)"
      ]
     },
     "metadata": {},
     "output_type": "display_data"
    },
    {
     "data": {
      "application/vnd.jupyter.widget-view+json": {
       "model_id": "be910e00136d43048aa51bb0fed5168e",
       "version_major": 2,
       "version_minor": 0
      },
      "text/plain": [
       "Canvas(toolbar=Toolbar(toolitems=[('Home', 'Reset original view', 'home', 'home'), ('Back', 'Back to previous …"
      ]
     },
     "metadata": {},
     "output_type": "display_data"
    }
   ],
   "source": [
    "import matplotlib.pyplot as plt\n",
    "import numpy as np\n",
    "import ipywidgets as widgets\n",
    "#%matplotlib widget\n",
    "\n",
    "slider = widgets.FloatSlider(value = 3, min = 1, max = 10, description = 'Freq')\n",
    "display(slider)\n",
    "x=np.linspace(0,20,1000)\n",
    "\n",
    "fig,ax = plt.subplots()\n",
    "fig.tight_layout()\n",
    "def replot(change):\n",
    "    ax.clear()\n",
    "    ax.plot(x,np.sin(slider.value*x))\n",
    "\n",
    "    fig.canvas.draw()\n",
    "\n",
    "replot(None)\n",
    "fig.show()\n",
    "\n",
    "slider.observe(replot)\n",
    "\n"
   ]
  },
  {
   "cell_type": "code",
   "execution_count": null,
   "id": "b23d8a1b-753e-4b3a-9d45-c9f8d332d352",
   "metadata": {},
   "outputs": [],
   "source": []
  }
 ],
 "metadata": {
  "kernelspec": {
   "display_name": "Python 3",
   "language": "python",
   "name": "python3"
  },
  "language_info": {
   "codemirror_mode": {
    "name": "ipython",
    "version": 3
   },
   "file_extension": ".py",
   "mimetype": "text/x-python",
   "name": "python",
   "nbconvert_exporter": "python",
   "pygments_lexer": "ipython3",
   "version": "3.8.8"
  }
 },
 "nbformat": 4,
 "nbformat_minor": 5
}
